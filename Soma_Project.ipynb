{
  "nbformat": 4,
  "nbformat_minor": 0,
  "metadata": {
    "colab": {
      "provenance": [],
      "authorship_tag": "ABX9TyNxXoCAOETnAktmSzlyS/WK",
      "include_colab_link": true
    },
    "kernelspec": {
      "name": "python3",
      "display_name": "Python 3"
    },
    "language_info": {
      "name": "python"
    }
  },
  "cells": [
    {
      "cell_type": "markdown",
      "metadata": {
        "id": "view-in-github",
        "colab_type": "text"
      },
      "source": [
        "<a href=\"https://colab.research.google.com/github/giovane04brito29-hue/Soma-Project/blob/main/Soma_Project.ipynb\" target=\"_parent\"><img src=\"https://colab.research.google.com/assets/colab-badge.svg\" alt=\"Open In Colab\"/></a>"
      ]
    },
    {
      "cell_type": "code",
      "execution_count": null,
      "metadata": {
        "id": "oHaF8uSM5raT"
      },
      "outputs": [],
      "source": [
        "a = 5 #quando você faz isso com uma variavel você está atribuindo um valor fixo à ela,\n",
        "      #se voce atribuir uma variável com input ela será 'variavel\"\n",
        "b = 3\n",
        "soma = a + b #A palavra reservada soma esta indicando o que o valor dela sera da soma a + b\n",
        "if soma == 8: # Estamos definindo uma condição se ela for verdadeira\n",
        "    print('A soma é 8!') #se for verdadeira aparecerá essa mensagem\n",
        "else: #se não\n",
        "    print('A soma não é 8!') #essa aqui"
      ]
    }
  ]
}